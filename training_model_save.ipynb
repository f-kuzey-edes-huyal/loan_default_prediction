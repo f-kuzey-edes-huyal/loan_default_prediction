{
 "cells": [
  {
   "cell_type": "code",
   "execution_count": 1,
   "id": "5abf8ca6-97d0-41c6-a123-43620b9c61bc",
   "metadata": {},
   "outputs": [],
   "source": [
    "import pandas as pd\n",
    "import numpy as np\n",
    "# https://www.kaggle.com/code/carlmcbrideellis/feature-selection-using-the-boruta-shap-package\n",
    "from sklearn.model_selection import train_test_split\n",
    "from sklearn.feature_extraction import DictVectorizer\n",
    "from xgboost import XGBClassifier\n",
    "from sklearn.metrics import f1_score\n",
    "import random\n",
    "import pickle\n",
    "import matplotlib.pyplot as plt\n",
    "from sklearn.metrics import precision_recall_curve, average_precision_score\n",
    "from sklearn.ensemble import RandomForestClassifier\n"
   ]
  },
  {
   "cell_type": "code",
   "execution_count": 2,
   "id": "7a14d170-7faf-4d91-a732-52351c9d79f2",
   "metadata": {},
   "outputs": [
    {
     "data": {
      "text/plain": [
       "list[array(['months_employed', 'credit_score', 'age', 'interest_rate',\n",
       "       'credit_age_factor', 'dtiratio', 'interest_payment_burden',\n",
       "       'income_to_interest_ratio', 'credit_income_inter',\n",
       "       'income_to_loan_ratio', 'loan_pay_to_inc_ratio', 'loan_amount',\n",
       "       'empl_sta', 'credit_util_ratio', 'income', 'has_co_signer=No',\n",
       "       'employment_type=Full-time', 'loan_term',\n",
       "       'employment_type=Unemployed', 'has_dependents=No'], dtype=object)]"
      ]
     },
     "execution_count": 2,
     "metadata": {},
     "output_type": "execute_result"
    }
   ],
   "source": [
    "data = pd.read_csv(\"data_with_new_features.csv\")\n",
    "features = pd.read_csv('feature_importances_xgb.csv', nrows = 20)\n",
    "features.head()\n",
    "selected_features = list[features['Unnamed: 0'].values]\n",
    "selected_features"
   ]
  },
  {
   "cell_type": "code",
   "execution_count": 3,
   "id": "856079fb-f605-4183-a4ff-36391971870e",
   "metadata": {},
   "outputs": [],
   "source": [
    "data_new = data.copy()\n",
    "y = data_new[\"default\"]\n",
    "del data_new[\"default\"]\n",
    "\n",
    "data_new = data_new[selected_features]"
   ]
  },
  {
   "cell_type": "code",
   "execution_count": null,
   "id": "fdf5df4f-965e-4c08-ad2d-50309f921b39",
   "metadata": {},
   "outputs": [],
   "source": []
  },
  {
   "cell_type": "code",
   "execution_count": 4,
   "id": "6e64a1e5-17a8-497c-ae74-bd20464a98b3",
   "metadata": {},
   "outputs": [],
   "source": [
    "df_full_train, df_test, y_full_train, y_test = train_test_split(data_new, y, stratify = y, test_size = 0.2, random_state = 1)\n",
    "\n",
    "df_train, df_val, y_train, y_val = train_test_split(df_full_train, y_full_train, stratify =y_full_train,  test_size = 0.25, random_state = 1)"
   ]
  },
  {
   "cell_type": "code",
   "execution_count": 5,
   "id": "5a9ac5f5-c787-453d-b112-b82cdb5b206d",
   "metadata": {},
   "outputs": [],
   "source": [
    "df_full_train = df_full_train.reset_index(drop = True)\n",
    "df_train = df_train.reset_index(drop = True)\n",
    "df_val = df_val.reset_index(drop = True)\n",
    "df_test = df_test.reset_index(drop = True)"
   ]
  },
  {
   "cell_type": "code",
   "execution_count": 6,
   "id": "75ca7a74-c736-4b18-a21b-948f7f2e9aa9",
   "metadata": {},
   "outputs": [],
   "source": [
    "y_full_train = y_full_train.values\n",
    "y_train = y_train.values\n",
    "y_val = y_val.values\n",
    "y_test = y_test.values"
   ]
  },
  {
   "cell_type": "code",
   "execution_count": 7,
   "id": "582897b0-cb99-4986-a8fc-a057548cd041",
   "metadata": {},
   "outputs": [],
   "source": [
    "full_train_dicts = df_full_train.to_dict(orient = 'records')\n",
    "train_dicts = df_train.to_dict(orient = 'records')\n",
    "val_dicts = df_val.to_dict(orient = 'records')\n",
    "test_dicts = df_test.to_dict(orient = 'records')"
   ]
  },
  {
   "cell_type": "code",
   "execution_count": 8,
   "id": "88b601d2-c585-4e24-84dc-a82b7901dc08",
   "metadata": {},
   "outputs": [],
   "source": [
    "# I was getting a memory error, so I set sparse=True for the DictVectorizer.\n",
    "dv = DictVectorizer(sparse = True)\n",
    "dv.fit(train_dicts)\n",
    "X_full_train_new = dv.transform(full_train_dicts)\n",
    "X_train_new = dv.transform(train_dicts)\n",
    "X_val_new = dv.transform(val_dicts)\n",
    "X_test_new = dv.transform(test_dicts)"
   ]
  },
  {
   "cell_type": "code",
   "execution_count": 9,
   "id": "4f574baf-d402-4cec-9a55-86a6b13d253a",
   "metadata": {},
   "outputs": [],
   "source": [
    "\n",
    "\n",
    "\n",
    "from sklearn.utils.class_weight import compute_sample_weight\n",
    "\n",
    "sample_weights = compute_sample_weight(class_weight='balanced', y=y_full_train)"
   ]
  },
  {
   "cell_type": "code",
   "execution_count": 10,
   "id": "1cfc39fb-d1d4-44fb-9581-c7b662bc1dd5",
   "metadata": {},
   "outputs": [
    {
     "name": "stderr",
     "output_type": "stream",
     "text": [
      "C:\\Users\\Kuzey\\Anaconda3\\envs\\ml-zoomcamp\\Lib\\site-packages\\xgboost\\core.py:158: UserWarning: [03:41:40] WARNING: C:\\buildkite-agent\\builds\\buildkite-windows-cpu-autoscaling-group-i-0ed59c031377d09b8-1\\xgboost\\xgboost-ci-windows\\src\\learner.cc:740: \n",
      "Parameters: { \"feature_name\", \"params\" } are not used.\n",
      "\n",
      "  warnings.warn(smsg, UserWarning)\n"
     ]
    },
    {
     "data": {
      "text/html": [
       "<style>#sk-container-id-1 {\n",
       "  /* Definition of color scheme common for light and dark mode */\n",
       "  --sklearn-color-text: black;\n",
       "  --sklearn-color-line: gray;\n",
       "  /* Definition of color scheme for unfitted estimators */\n",
       "  --sklearn-color-unfitted-level-0: #fff5e6;\n",
       "  --sklearn-color-unfitted-level-1: #f6e4d2;\n",
       "  --sklearn-color-unfitted-level-2: #ffe0b3;\n",
       "  --sklearn-color-unfitted-level-3: chocolate;\n",
       "  /* Definition of color scheme for fitted estimators */\n",
       "  --sklearn-color-fitted-level-0: #f0f8ff;\n",
       "  --sklearn-color-fitted-level-1: #d4ebff;\n",
       "  --sklearn-color-fitted-level-2: #b3dbfd;\n",
       "  --sklearn-color-fitted-level-3: cornflowerblue;\n",
       "\n",
       "  /* Specific color for light theme */\n",
       "  --sklearn-color-text-on-default-background: var(--sg-text-color, var(--theme-code-foreground, var(--jp-content-font-color1, black)));\n",
       "  --sklearn-color-background: var(--sg-background-color, var(--theme-background, var(--jp-layout-color0, white)));\n",
       "  --sklearn-color-border-box: var(--sg-text-color, var(--theme-code-foreground, var(--jp-content-font-color1, black)));\n",
       "  --sklearn-color-icon: #696969;\n",
       "\n",
       "  @media (prefers-color-scheme: dark) {\n",
       "    /* Redefinition of color scheme for dark theme */\n",
       "    --sklearn-color-text-on-default-background: var(--sg-text-color, var(--theme-code-foreground, var(--jp-content-font-color1, white)));\n",
       "    --sklearn-color-background: var(--sg-background-color, var(--theme-background, var(--jp-layout-color0, #111)));\n",
       "    --sklearn-color-border-box: var(--sg-text-color, var(--theme-code-foreground, var(--jp-content-font-color1, white)));\n",
       "    --sklearn-color-icon: #878787;\n",
       "  }\n",
       "}\n",
       "\n",
       "#sk-container-id-1 {\n",
       "  color: var(--sklearn-color-text);\n",
       "}\n",
       "\n",
       "#sk-container-id-1 pre {\n",
       "  padding: 0;\n",
       "}\n",
       "\n",
       "#sk-container-id-1 input.sk-hidden--visually {\n",
       "  border: 0;\n",
       "  clip: rect(1px 1px 1px 1px);\n",
       "  clip: rect(1px, 1px, 1px, 1px);\n",
       "  height: 1px;\n",
       "  margin: -1px;\n",
       "  overflow: hidden;\n",
       "  padding: 0;\n",
       "  position: absolute;\n",
       "  width: 1px;\n",
       "}\n",
       "\n",
       "#sk-container-id-1 div.sk-dashed-wrapped {\n",
       "  border: 1px dashed var(--sklearn-color-line);\n",
       "  margin: 0 0.4em 0.5em 0.4em;\n",
       "  box-sizing: border-box;\n",
       "  padding-bottom: 0.4em;\n",
       "  background-color: var(--sklearn-color-background);\n",
       "}\n",
       "\n",
       "#sk-container-id-1 div.sk-container {\n",
       "  /* jupyter's `normalize.less` sets `[hidden] { display: none; }`\n",
       "     but bootstrap.min.css set `[hidden] { display: none !important; }`\n",
       "     so we also need the `!important` here to be able to override the\n",
       "     default hidden behavior on the sphinx rendered scikit-learn.org.\n",
       "     See: https://github.com/scikit-learn/scikit-learn/issues/21755 */\n",
       "  display: inline-block !important;\n",
       "  position: relative;\n",
       "}\n",
       "\n",
       "#sk-container-id-1 div.sk-text-repr-fallback {\n",
       "  display: none;\n",
       "}\n",
       "\n",
       "div.sk-parallel-item,\n",
       "div.sk-serial,\n",
       "div.sk-item {\n",
       "  /* draw centered vertical line to link estimators */\n",
       "  background-image: linear-gradient(var(--sklearn-color-text-on-default-background), var(--sklearn-color-text-on-default-background));\n",
       "  background-size: 2px 100%;\n",
       "  background-repeat: no-repeat;\n",
       "  background-position: center center;\n",
       "}\n",
       "\n",
       "/* Parallel-specific style estimator block */\n",
       "\n",
       "#sk-container-id-1 div.sk-parallel-item::after {\n",
       "  content: \"\";\n",
       "  width: 100%;\n",
       "  border-bottom: 2px solid var(--sklearn-color-text-on-default-background);\n",
       "  flex-grow: 1;\n",
       "}\n",
       "\n",
       "#sk-container-id-1 div.sk-parallel {\n",
       "  display: flex;\n",
       "  align-items: stretch;\n",
       "  justify-content: center;\n",
       "  background-color: var(--sklearn-color-background);\n",
       "  position: relative;\n",
       "}\n",
       "\n",
       "#sk-container-id-1 div.sk-parallel-item {\n",
       "  display: flex;\n",
       "  flex-direction: column;\n",
       "}\n",
       "\n",
       "#sk-container-id-1 div.sk-parallel-item:first-child::after {\n",
       "  align-self: flex-end;\n",
       "  width: 50%;\n",
       "}\n",
       "\n",
       "#sk-container-id-1 div.sk-parallel-item:last-child::after {\n",
       "  align-self: flex-start;\n",
       "  width: 50%;\n",
       "}\n",
       "\n",
       "#sk-container-id-1 div.sk-parallel-item:only-child::after {\n",
       "  width: 0;\n",
       "}\n",
       "\n",
       "/* Serial-specific style estimator block */\n",
       "\n",
       "#sk-container-id-1 div.sk-serial {\n",
       "  display: flex;\n",
       "  flex-direction: column;\n",
       "  align-items: center;\n",
       "  background-color: var(--sklearn-color-background);\n",
       "  padding-right: 1em;\n",
       "  padding-left: 1em;\n",
       "}\n",
       "\n",
       "\n",
       "/* Toggleable style: style used for estimator/Pipeline/ColumnTransformer box that is\n",
       "clickable and can be expanded/collapsed.\n",
       "- Pipeline and ColumnTransformer use this feature and define the default style\n",
       "- Estimators will overwrite some part of the style using the `sk-estimator` class\n",
       "*/\n",
       "\n",
       "/* Pipeline and ColumnTransformer style (default) */\n",
       "\n",
       "#sk-container-id-1 div.sk-toggleable {\n",
       "  /* Default theme specific background. It is overwritten whether we have a\n",
       "  specific estimator or a Pipeline/ColumnTransformer */\n",
       "  background-color: var(--sklearn-color-background);\n",
       "}\n",
       "\n",
       "/* Toggleable label */\n",
       "#sk-container-id-1 label.sk-toggleable__label {\n",
       "  cursor: pointer;\n",
       "  display: block;\n",
       "  width: 100%;\n",
       "  margin-bottom: 0;\n",
       "  padding: 0.5em;\n",
       "  box-sizing: border-box;\n",
       "  text-align: center;\n",
       "}\n",
       "\n",
       "#sk-container-id-1 label.sk-toggleable__label-arrow:before {\n",
       "  /* Arrow on the left of the label */\n",
       "  content: \"▸\";\n",
       "  float: left;\n",
       "  margin-right: 0.25em;\n",
       "  color: var(--sklearn-color-icon);\n",
       "}\n",
       "\n",
       "#sk-container-id-1 label.sk-toggleable__label-arrow:hover:before {\n",
       "  color: var(--sklearn-color-text);\n",
       "}\n",
       "\n",
       "/* Toggleable content - dropdown */\n",
       "\n",
       "#sk-container-id-1 div.sk-toggleable__content {\n",
       "  max-height: 0;\n",
       "  max-width: 0;\n",
       "  overflow: hidden;\n",
       "  text-align: left;\n",
       "  /* unfitted */\n",
       "  background-color: var(--sklearn-color-unfitted-level-0);\n",
       "}\n",
       "\n",
       "#sk-container-id-1 div.sk-toggleable__content.fitted {\n",
       "  /* fitted */\n",
       "  background-color: var(--sklearn-color-fitted-level-0);\n",
       "}\n",
       "\n",
       "#sk-container-id-1 div.sk-toggleable__content pre {\n",
       "  margin: 0.2em;\n",
       "  border-radius: 0.25em;\n",
       "  color: var(--sklearn-color-text);\n",
       "  /* unfitted */\n",
       "  background-color: var(--sklearn-color-unfitted-level-0);\n",
       "}\n",
       "\n",
       "#sk-container-id-1 div.sk-toggleable__content.fitted pre {\n",
       "  /* unfitted */\n",
       "  background-color: var(--sklearn-color-fitted-level-0);\n",
       "}\n",
       "\n",
       "#sk-container-id-1 input.sk-toggleable__control:checked~div.sk-toggleable__content {\n",
       "  /* Expand drop-down */\n",
       "  max-height: 200px;\n",
       "  max-width: 100%;\n",
       "  overflow: auto;\n",
       "}\n",
       "\n",
       "#sk-container-id-1 input.sk-toggleable__control:checked~label.sk-toggleable__label-arrow:before {\n",
       "  content: \"▾\";\n",
       "}\n",
       "\n",
       "/* Pipeline/ColumnTransformer-specific style */\n",
       "\n",
       "#sk-container-id-1 div.sk-label input.sk-toggleable__control:checked~label.sk-toggleable__label {\n",
       "  color: var(--sklearn-color-text);\n",
       "  background-color: var(--sklearn-color-unfitted-level-2);\n",
       "}\n",
       "\n",
       "#sk-container-id-1 div.sk-label.fitted input.sk-toggleable__control:checked~label.sk-toggleable__label {\n",
       "  background-color: var(--sklearn-color-fitted-level-2);\n",
       "}\n",
       "\n",
       "/* Estimator-specific style */\n",
       "\n",
       "/* Colorize estimator box */\n",
       "#sk-container-id-1 div.sk-estimator input.sk-toggleable__control:checked~label.sk-toggleable__label {\n",
       "  /* unfitted */\n",
       "  background-color: var(--sklearn-color-unfitted-level-2);\n",
       "}\n",
       "\n",
       "#sk-container-id-1 div.sk-estimator.fitted input.sk-toggleable__control:checked~label.sk-toggleable__label {\n",
       "  /* fitted */\n",
       "  background-color: var(--sklearn-color-fitted-level-2);\n",
       "}\n",
       "\n",
       "#sk-container-id-1 div.sk-label label.sk-toggleable__label,\n",
       "#sk-container-id-1 div.sk-label label {\n",
       "  /* The background is the default theme color */\n",
       "  color: var(--sklearn-color-text-on-default-background);\n",
       "}\n",
       "\n",
       "/* On hover, darken the color of the background */\n",
       "#sk-container-id-1 div.sk-label:hover label.sk-toggleable__label {\n",
       "  color: var(--sklearn-color-text);\n",
       "  background-color: var(--sklearn-color-unfitted-level-2);\n",
       "}\n",
       "\n",
       "/* Label box, darken color on hover, fitted */\n",
       "#sk-container-id-1 div.sk-label.fitted:hover label.sk-toggleable__label.fitted {\n",
       "  color: var(--sklearn-color-text);\n",
       "  background-color: var(--sklearn-color-fitted-level-2);\n",
       "}\n",
       "\n",
       "/* Estimator label */\n",
       "\n",
       "#sk-container-id-1 div.sk-label label {\n",
       "  font-family: monospace;\n",
       "  font-weight: bold;\n",
       "  display: inline-block;\n",
       "  line-height: 1.2em;\n",
       "}\n",
       "\n",
       "#sk-container-id-1 div.sk-label-container {\n",
       "  text-align: center;\n",
       "}\n",
       "\n",
       "/* Estimator-specific */\n",
       "#sk-container-id-1 div.sk-estimator {\n",
       "  font-family: monospace;\n",
       "  border: 1px dotted var(--sklearn-color-border-box);\n",
       "  border-radius: 0.25em;\n",
       "  box-sizing: border-box;\n",
       "  margin-bottom: 0.5em;\n",
       "  /* unfitted */\n",
       "  background-color: var(--sklearn-color-unfitted-level-0);\n",
       "}\n",
       "\n",
       "#sk-container-id-1 div.sk-estimator.fitted {\n",
       "  /* fitted */\n",
       "  background-color: var(--sklearn-color-fitted-level-0);\n",
       "}\n",
       "\n",
       "/* on hover */\n",
       "#sk-container-id-1 div.sk-estimator:hover {\n",
       "  /* unfitted */\n",
       "  background-color: var(--sklearn-color-unfitted-level-2);\n",
       "}\n",
       "\n",
       "#sk-container-id-1 div.sk-estimator.fitted:hover {\n",
       "  /* fitted */\n",
       "  background-color: var(--sklearn-color-fitted-level-2);\n",
       "}\n",
       "\n",
       "/* Specification for estimator info (e.g. \"i\" and \"?\") */\n",
       "\n",
       "/* Common style for \"i\" and \"?\" */\n",
       "\n",
       ".sk-estimator-doc-link,\n",
       "a:link.sk-estimator-doc-link,\n",
       "a:visited.sk-estimator-doc-link {\n",
       "  float: right;\n",
       "  font-size: smaller;\n",
       "  line-height: 1em;\n",
       "  font-family: monospace;\n",
       "  background-color: var(--sklearn-color-background);\n",
       "  border-radius: 1em;\n",
       "  height: 1em;\n",
       "  width: 1em;\n",
       "  text-decoration: none !important;\n",
       "  margin-left: 1ex;\n",
       "  /* unfitted */\n",
       "  border: var(--sklearn-color-unfitted-level-1) 1pt solid;\n",
       "  color: var(--sklearn-color-unfitted-level-1);\n",
       "}\n",
       "\n",
       ".sk-estimator-doc-link.fitted,\n",
       "a:link.sk-estimator-doc-link.fitted,\n",
       "a:visited.sk-estimator-doc-link.fitted {\n",
       "  /* fitted */\n",
       "  border: var(--sklearn-color-fitted-level-1) 1pt solid;\n",
       "  color: var(--sklearn-color-fitted-level-1);\n",
       "}\n",
       "\n",
       "/* On hover */\n",
       "div.sk-estimator:hover .sk-estimator-doc-link:hover,\n",
       ".sk-estimator-doc-link:hover,\n",
       "div.sk-label-container:hover .sk-estimator-doc-link:hover,\n",
       ".sk-estimator-doc-link:hover {\n",
       "  /* unfitted */\n",
       "  background-color: var(--sklearn-color-unfitted-level-3);\n",
       "  color: var(--sklearn-color-background);\n",
       "  text-decoration: none;\n",
       "}\n",
       "\n",
       "div.sk-estimator.fitted:hover .sk-estimator-doc-link.fitted:hover,\n",
       ".sk-estimator-doc-link.fitted:hover,\n",
       "div.sk-label-container:hover .sk-estimator-doc-link.fitted:hover,\n",
       ".sk-estimator-doc-link.fitted:hover {\n",
       "  /* fitted */\n",
       "  background-color: var(--sklearn-color-fitted-level-3);\n",
       "  color: var(--sklearn-color-background);\n",
       "  text-decoration: none;\n",
       "}\n",
       "\n",
       "/* Span, style for the box shown on hovering the info icon */\n",
       ".sk-estimator-doc-link span {\n",
       "  display: none;\n",
       "  z-index: 9999;\n",
       "  position: relative;\n",
       "  font-weight: normal;\n",
       "  right: .2ex;\n",
       "  padding: .5ex;\n",
       "  margin: .5ex;\n",
       "  width: min-content;\n",
       "  min-width: 20ex;\n",
       "  max-width: 50ex;\n",
       "  color: var(--sklearn-color-text);\n",
       "  box-shadow: 2pt 2pt 4pt #999;\n",
       "  /* unfitted */\n",
       "  background: var(--sklearn-color-unfitted-level-0);\n",
       "  border: .5pt solid var(--sklearn-color-unfitted-level-3);\n",
       "}\n",
       "\n",
       ".sk-estimator-doc-link.fitted span {\n",
       "  /* fitted */\n",
       "  background: var(--sklearn-color-fitted-level-0);\n",
       "  border: var(--sklearn-color-fitted-level-3);\n",
       "}\n",
       "\n",
       ".sk-estimator-doc-link:hover span {\n",
       "  display: block;\n",
       "}\n",
       "\n",
       "/* \"?\"-specific style due to the `<a>` HTML tag */\n",
       "\n",
       "#sk-container-id-1 a.estimator_doc_link {\n",
       "  float: right;\n",
       "  font-size: 1rem;\n",
       "  line-height: 1em;\n",
       "  font-family: monospace;\n",
       "  background-color: var(--sklearn-color-background);\n",
       "  border-radius: 1rem;\n",
       "  height: 1rem;\n",
       "  width: 1rem;\n",
       "  text-decoration: none;\n",
       "  /* unfitted */\n",
       "  color: var(--sklearn-color-unfitted-level-1);\n",
       "  border: var(--sklearn-color-unfitted-level-1) 1pt solid;\n",
       "}\n",
       "\n",
       "#sk-container-id-1 a.estimator_doc_link.fitted {\n",
       "  /* fitted */\n",
       "  border: var(--sklearn-color-fitted-level-1) 1pt solid;\n",
       "  color: var(--sklearn-color-fitted-level-1);\n",
       "}\n",
       "\n",
       "/* On hover */\n",
       "#sk-container-id-1 a.estimator_doc_link:hover {\n",
       "  /* unfitted */\n",
       "  background-color: var(--sklearn-color-unfitted-level-3);\n",
       "  color: var(--sklearn-color-background);\n",
       "  text-decoration: none;\n",
       "}\n",
       "\n",
       "#sk-container-id-1 a.estimator_doc_link.fitted:hover {\n",
       "  /* fitted */\n",
       "  background-color: var(--sklearn-color-fitted-level-3);\n",
       "}\n",
       "</style><div id=\"sk-container-id-1\" class=\"sk-top-container\"><div class=\"sk-text-repr-fallback\"><pre>XGBClassifier(base_score=None, booster=None, callbacks=None,\n",
       "              colsample_bylevel=None, colsample_bynode=None,\n",
       "              colsample_bytree=None, device=None, early_stopping_rounds=None,\n",
       "              enable_categorical=False, eval_metric=None,\n",
       "              feature_name=array([&#x27;age&#x27;, &#x27;credit_age_factor&#x27;, &#x27;credit_income_inter&#x27;, ...,\n",
       "       &#x27;marital_status_dependents=Single_Yes&#x27;, &#x27;months_employed&#x27;,\n",
       "       &#x27;num_credit_lin...\n",
       "              feature_types=None, gamma=None, grow_policy=None,\n",
       "              importance_type=None, interaction_constraints=None,\n",
       "              learning_rate=None, max_bin=None, max_cat_threshold=None,\n",
       "              max_cat_to_onehot=None, max_delta_step=None, max_depth=None,\n",
       "              max_leaves=None, min_child_weight=None, missing=nan,\n",
       "              monotone_constraints=None, multi_strategy=None, n_estimators=None,\n",
       "              n_jobs=None, num_parallel_tree=None, ...)</pre><b>In a Jupyter environment, please rerun this cell to show the HTML representation or trust the notebook. <br />On GitHub, the HTML representation is unable to render, please try loading this page with nbviewer.org.</b></div><div class=\"sk-container\" hidden><div class=\"sk-item\"><div class=\"sk-estimator fitted sk-toggleable\"><input class=\"sk-toggleable__control sk-hidden--visually\" id=\"sk-estimator-id-1\" type=\"checkbox\" checked><label for=\"sk-estimator-id-1\" class=\"sk-toggleable__label fitted sk-toggleable__label-arrow fitted\">&nbsp;XGBClassifier<span class=\"sk-estimator-doc-link fitted\">i<span>Fitted</span></span></label><div class=\"sk-toggleable__content fitted\"><pre>XGBClassifier(base_score=None, booster=None, callbacks=None,\n",
       "              colsample_bylevel=None, colsample_bynode=None,\n",
       "              colsample_bytree=None, device=None, early_stopping_rounds=None,\n",
       "              enable_categorical=False, eval_metric=None,\n",
       "              feature_name=array([&#x27;age&#x27;, &#x27;credit_age_factor&#x27;, &#x27;credit_income_inter&#x27;, ...,\n",
       "       &#x27;marital_status_dependents=Single_Yes&#x27;, &#x27;months_employed&#x27;,\n",
       "       &#x27;num_credit_lin...\n",
       "              feature_types=None, gamma=None, grow_policy=None,\n",
       "              importance_type=None, interaction_constraints=None,\n",
       "              learning_rate=None, max_bin=None, max_cat_threshold=None,\n",
       "              max_cat_to_onehot=None, max_delta_step=None, max_depth=None,\n",
       "              max_leaves=None, min_child_weight=None, missing=nan,\n",
       "              monotone_constraints=None, multi_strategy=None, n_estimators=None,\n",
       "              n_jobs=None, num_parallel_tree=None, ...)</pre></div> </div></div></div></div>"
      ],
      "text/plain": [
       "XGBClassifier(base_score=None, booster=None, callbacks=None,\n",
       "              colsample_bylevel=None, colsample_bynode=None,\n",
       "              colsample_bytree=None, device=None, early_stopping_rounds=None,\n",
       "              enable_categorical=False, eval_metric=None,\n",
       "              feature_name=array(['age', 'credit_age_factor', 'credit_income_inter', ...,\n",
       "       'marital_status_dependents=Single_Yes', 'months_employed',\n",
       "       'num_credit_lin...\n",
       "              feature_types=None, gamma=None, grow_policy=None,\n",
       "              importance_type=None, interaction_constraints=None,\n",
       "              learning_rate=None, max_bin=None, max_cat_threshold=None,\n",
       "              max_cat_to_onehot=None, max_delta_step=None, max_depth=None,\n",
       "              max_leaves=None, min_child_weight=None, missing=nan,\n",
       "              monotone_constraints=None, multi_strategy=None, n_estimators=None,\n",
       "              n_jobs=None, num_parallel_tree=None, ...)"
      ]
     },
     "execution_count": 10,
     "metadata": {},
     "output_type": "execute_result"
    }
   ],
   "source": [
    "# fit model no training data\n",
    "model = XGBClassifier(params = {'subsample': 0.9, 'scale_pos_weight': 1, 'reg_lambda': 1,'reg_alpha': 0.1, 'n_estimators': 200, 'max_depth': 5,\n",
    "'learning_rate': 0.05, 'gamma': 0.3, 'colsample_bytree': 0.9}, objective=\"binary:logistic\", feature_name=dv.get_feature_names_out(), random_state = 1)\n",
    "model.fit(X_full_train_new, y_full_train,sample_weight=sample_weights)"
   ]
  },
  {
   "cell_type": "code",
   "execution_count": 11,
   "id": "7bf33a9d-76bf-4514-9fb3-948433a5bf20",
   "metadata": {},
   "outputs": [],
   "source": [
    "y_pred = model.predict_proba(X_test_new)[:,1]"
   ]
  },
  {
   "cell_type": "code",
   "execution_count": 12,
   "id": "4a73d54e-3fd6-4909-b69a-dcb72f37e78c",
   "metadata": {},
   "outputs": [
    {
     "name": "stdout",
     "output_type": "stream",
     "text": [
      "[0.75899124 0.67681766 0.54432464 ... 0.37157747 0.14638917 0.1884372 ]\n"
     ]
    }
   ],
   "source": [
    "print(y_pred)"
   ]
  },
  {
   "cell_type": "code",
   "execution_count": 13,
   "id": "549934a2-7404-408a-81df-5faefc10aa00",
   "metadata": {},
   "outputs": [
    {
     "name": "stdout",
     "output_type": "stream",
     "text": [
      "Accuracy is calculated as \u001b[1m0.71\u001b[0m.\n",
      "Macro F1 score is calculated as \u001b[1m0.58\u001b[0m.\n",
      "Weighted F1 score is calculated as \u001b[1m0.76\u001b[0m.\n"
     ]
    }
   ],
   "source": [
    "y_pred > 0.5\n",
    "y_decision = (y_pred >= 0.5).astype(int)\n",
    "acc = (y_test == y_decision).mean().round(2)\n",
    "print(f\"Accuracy is calculated as \\033[1m{acc}\\033[0m.\")\n",
    "f_macro = f1_score(y_test, y_decision, average='macro').round(2)\n",
    "print(f\"Macro F1 score is calculated as \\033[1m{f_macro}\\033[0m.\")\n",
    "f_weighted = f1_score(y_test, y_decision, average='weighted').round(2)\n",
    "print(f\"Weighted F1 score is calculated as \\033[1m{f_weighted}\\033[0m.\")"
   ]
  },
  {
   "cell_type": "code",
   "execution_count": 14,
   "id": "bd195ee0-80bb-4fca-bc86-6340b6044bd1",
   "metadata": {},
   "outputs": [],
   "source": [
    "seeds = [5, 13, 29, 43, 57, 87, 29, 42,1, 93]"
   ]
  },
  {
   "cell_type": "code",
   "execution_count": 15,
   "id": "dd0032f4-462e-4aea-bfdf-7a282ca409a7",
   "metadata": {},
   "outputs": [
    {
     "name": "stdout",
     "output_type": "stream",
     "text": [
      "5\n"
     ]
    },
    {
     "name": "stderr",
     "output_type": "stream",
     "text": [
      "C:\\Users\\Kuzey\\Anaconda3\\envs\\ml-zoomcamp\\Lib\\site-packages\\xgboost\\core.py:158: UserWarning: [03:41:52] WARNING: C:\\buildkite-agent\\builds\\buildkite-windows-cpu-autoscaling-group-i-0ed59c031377d09b8-1\\xgboost\\xgboost-ci-windows\\src\\learner.cc:740: \n",
      "Parameters: { \"feature_name\", \"params\" } are not used.\n",
      "\n",
      "  warnings.warn(smsg, UserWarning)\n"
     ]
    },
    {
     "name": "stdout",
     "output_type": "stream",
     "text": [
      "Accuracy is calculated as \u001b[1m0.7998\u001b[0m.\n",
      "Macro F1 score is calculated as \u001b[1m0.6243\u001b[0m.\n",
      "Weighted F1 score is calculated as \u001b[1m0.8214\u001b[0m.\n",
      "13\n"
     ]
    },
    {
     "name": "stderr",
     "output_type": "stream",
     "text": [
      "C:\\Users\\Kuzey\\Anaconda3\\envs\\ml-zoomcamp\\Lib\\site-packages\\xgboost\\core.py:158: UserWarning: [03:41:55] WARNING: C:\\buildkite-agent\\builds\\buildkite-windows-cpu-autoscaling-group-i-0ed59c031377d09b8-1\\xgboost\\xgboost-ci-windows\\src\\learner.cc:740: \n",
      "Parameters: { \"feature_name\", \"params\" } are not used.\n",
      "\n",
      "  warnings.warn(smsg, UserWarning)\n"
     ]
    },
    {
     "name": "stdout",
     "output_type": "stream",
     "text": [
      "Accuracy is calculated as \u001b[1m0.8005\u001b[0m.\n",
      "Macro F1 score is calculated as \u001b[1m0.6245\u001b[0m.\n",
      "Weighted F1 score is calculated as \u001b[1m0.8219\u001b[0m.\n",
      "29\n"
     ]
    },
    {
     "name": "stderr",
     "output_type": "stream",
     "text": [
      "C:\\Users\\Kuzey\\Anaconda3\\envs\\ml-zoomcamp\\Lib\\site-packages\\xgboost\\core.py:158: UserWarning: [03:41:59] WARNING: C:\\buildkite-agent\\builds\\buildkite-windows-cpu-autoscaling-group-i-0ed59c031377d09b8-1\\xgboost\\xgboost-ci-windows\\src\\learner.cc:740: \n",
      "Parameters: { \"feature_name\", \"params\" } are not used.\n",
      "\n",
      "  warnings.warn(smsg, UserWarning)\n"
     ]
    },
    {
     "name": "stdout",
     "output_type": "stream",
     "text": [
      "Accuracy is calculated as \u001b[1m0.7998\u001b[0m.\n",
      "Macro F1 score is calculated as \u001b[1m0.6245\u001b[0m.\n",
      "Weighted F1 score is calculated as \u001b[1m0.8215\u001b[0m.\n",
      "43\n"
     ]
    },
    {
     "name": "stderr",
     "output_type": "stream",
     "text": [
      "C:\\Users\\Kuzey\\Anaconda3\\envs\\ml-zoomcamp\\Lib\\site-packages\\xgboost\\core.py:158: UserWarning: [03:42:03] WARNING: C:\\buildkite-agent\\builds\\buildkite-windows-cpu-autoscaling-group-i-0ed59c031377d09b8-1\\xgboost\\xgboost-ci-windows\\src\\learner.cc:740: \n",
      "Parameters: { \"feature_name\", \"params\" } are not used.\n",
      "\n",
      "  warnings.warn(smsg, UserWarning)\n"
     ]
    },
    {
     "name": "stdout",
     "output_type": "stream",
     "text": [
      "Accuracy is calculated as \u001b[1m0.7994\u001b[0m.\n",
      "Macro F1 score is calculated as \u001b[1m0.6241\u001b[0m.\n",
      "Weighted F1 score is calculated as \u001b[1m0.8212\u001b[0m.\n",
      "57\n"
     ]
    },
    {
     "name": "stderr",
     "output_type": "stream",
     "text": [
      "C:\\Users\\Kuzey\\Anaconda3\\envs\\ml-zoomcamp\\Lib\\site-packages\\xgboost\\core.py:158: UserWarning: [03:42:07] WARNING: C:\\buildkite-agent\\builds\\buildkite-windows-cpu-autoscaling-group-i-0ed59c031377d09b8-1\\xgboost\\xgboost-ci-windows\\src\\learner.cc:740: \n",
      "Parameters: { \"feature_name\", \"params\" } are not used.\n",
      "\n",
      "  warnings.warn(smsg, UserWarning)\n"
     ]
    },
    {
     "name": "stdout",
     "output_type": "stream",
     "text": [
      "Accuracy is calculated as \u001b[1m0.7994\u001b[0m.\n",
      "Macro F1 score is calculated as \u001b[1m0.6242\u001b[0m.\n",
      "Weighted F1 score is calculated as \u001b[1m0.8212\u001b[0m.\n",
      "87\n"
     ]
    },
    {
     "name": "stderr",
     "output_type": "stream",
     "text": [
      "C:\\Users\\Kuzey\\Anaconda3\\envs\\ml-zoomcamp\\Lib\\site-packages\\xgboost\\core.py:158: UserWarning: [03:42:10] WARNING: C:\\buildkite-agent\\builds\\buildkite-windows-cpu-autoscaling-group-i-0ed59c031377d09b8-1\\xgboost\\xgboost-ci-windows\\src\\learner.cc:740: \n",
      "Parameters: { \"feature_name\", \"params\" } are not used.\n",
      "\n",
      "  warnings.warn(smsg, UserWarning)\n"
     ]
    },
    {
     "name": "stdout",
     "output_type": "stream",
     "text": [
      "Accuracy is calculated as \u001b[1m0.8001\u001b[0m.\n",
      "Macro F1 score is calculated as \u001b[1m0.6245\u001b[0m.\n",
      "Weighted F1 score is calculated as \u001b[1m0.8217\u001b[0m.\n",
      "28\n"
     ]
    },
    {
     "name": "stderr",
     "output_type": "stream",
     "text": [
      "C:\\Users\\Kuzey\\Anaconda3\\envs\\ml-zoomcamp\\Lib\\site-packages\\xgboost\\core.py:158: UserWarning: [03:42:13] WARNING: C:\\buildkite-agent\\builds\\buildkite-windows-cpu-autoscaling-group-i-0ed59c031377d09b8-1\\xgboost\\xgboost-ci-windows\\src\\learner.cc:740: \n",
      "Parameters: { \"feature_name\", \"params\" } are not used.\n",
      "\n",
      "  warnings.warn(smsg, UserWarning)\n"
     ]
    },
    {
     "name": "stdout",
     "output_type": "stream",
     "text": [
      "Accuracy is calculated as \u001b[1m0.7998\u001b[0m.\n",
      "Macro F1 score is calculated as \u001b[1m0.6237\u001b[0m.\n",
      "Weighted F1 score is calculated as \u001b[1m0.8214\u001b[0m.\n",
      "42\n"
     ]
    },
    {
     "name": "stderr",
     "output_type": "stream",
     "text": [
      "C:\\Users\\Kuzey\\Anaconda3\\envs\\ml-zoomcamp\\Lib\\site-packages\\xgboost\\core.py:158: UserWarning: [03:42:17] WARNING: C:\\buildkite-agent\\builds\\buildkite-windows-cpu-autoscaling-group-i-0ed59c031377d09b8-1\\xgboost\\xgboost-ci-windows\\src\\learner.cc:740: \n",
      "Parameters: { \"feature_name\", \"params\" } are not used.\n",
      "\n",
      "  warnings.warn(smsg, UserWarning)\n"
     ]
    },
    {
     "name": "stdout",
     "output_type": "stream",
     "text": [
      "Accuracy is calculated as \u001b[1m0.8004\u001b[0m.\n",
      "Macro F1 score is calculated as \u001b[1m0.6247\u001b[0m.\n",
      "Weighted F1 score is calculated as \u001b[1m0.8218\u001b[0m.\n",
      "1\n"
     ]
    },
    {
     "name": "stderr",
     "output_type": "stream",
     "text": [
      "C:\\Users\\Kuzey\\Anaconda3\\envs\\ml-zoomcamp\\Lib\\site-packages\\xgboost\\core.py:158: UserWarning: [03:42:20] WARNING: C:\\buildkite-agent\\builds\\buildkite-windows-cpu-autoscaling-group-i-0ed59c031377d09b8-1\\xgboost\\xgboost-ci-windows\\src\\learner.cc:740: \n",
      "Parameters: { \"feature_name\", \"params\" } are not used.\n",
      "\n",
      "  warnings.warn(smsg, UserWarning)\n"
     ]
    },
    {
     "name": "stdout",
     "output_type": "stream",
     "text": [
      "Accuracy is calculated as \u001b[1m0.8\u001b[0m.\n",
      "Macro F1 score is calculated as \u001b[1m0.6246\u001b[0m.\n",
      "Weighted F1 score is calculated as \u001b[1m0.8216\u001b[0m.\n",
      "93\n"
     ]
    },
    {
     "name": "stderr",
     "output_type": "stream",
     "text": [
      "C:\\Users\\Kuzey\\Anaconda3\\envs\\ml-zoomcamp\\Lib\\site-packages\\xgboost\\core.py:158: UserWarning: [03:42:23] WARNING: C:\\buildkite-agent\\builds\\buildkite-windows-cpu-autoscaling-group-i-0ed59c031377d09b8-1\\xgboost\\xgboost-ci-windows\\src\\learner.cc:740: \n",
      "Parameters: { \"feature_name\", \"params\" } are not used.\n",
      "\n",
      "  warnings.warn(smsg, UserWarning)\n"
     ]
    },
    {
     "name": "stdout",
     "output_type": "stream",
     "text": [
      "Accuracy is calculated as \u001b[1m0.8002\u001b[0m.\n",
      "Macro F1 score is calculated as \u001b[1m0.6245\u001b[0m.\n",
      "Weighted F1 score is calculated as \u001b[1m0.8217\u001b[0m.\n"
     ]
    }
   ],
   "source": [
    "#I initiannly get same results for each run. I tried the change subsample, colsample_bytree parameters but it did not help.\n",
    "#To devaluate non deterministic results I st booster to gblinear readinf the xgboost documentation \n",
    "#https://readthedocs.org/projects/xgboost/downloads/pdf/latest/\n",
    "\n",
    "results = []\n",
    "for i in [5, 13, 29, 43, 57, 87, 28, 42,1, 93]:\n",
    "    print(i)\n",
    "    # I have deleted subsample and colsample_bytree parameters since I have evaluated same result at each run\n",
    "    model = XGBClassifier(params = {'subsample': 0.9, 'scale_pos_weight': 1, 'reg_lambda': 1,'reg_alpha': 0.1, 'n_estimators': 200, 'max_depth': 5,\n",
    "'learning_rate': 0.05, 'gamma': 0.3, 'colsample_bytree': 0.9}, objective=\"binary:logitraw\", feature_selector= \"shuffle\", booster = 'gblinear',\n",
    "                          feature_name=dv.get_feature_names_out(), random_state = i)\n",
    "    model.fit(X_full_train_new, y_full_train,sample_weight=sample_weights)\n",
    "    y_pred = model.predict_proba(X_test_new)[:,1]\n",
    "    y_pred > 0.5\n",
    "    y_decision = (y_pred >= 0.5).astype(int)\n",
    "    acc = (y_test == y_decision).mean().round(4)\n",
    "    print(f\"Accuracy is calculated as \\033[1m{acc}\\033[0m.\")\n",
    "    f_macro = f1_score(y_test, y_decision, average='macro').round(4)\n",
    "    print(f\"Macro F1 score is calculated as \\033[1m{f_macro}\\033[0m.\")\n",
    "    f_weighted = f1_score(y_test, y_decision, average='weighted').round(4)\n",
    "    print(f\"Weighted F1 score is calculated as \\033[1m{f_weighted}\\033[0m.\")\n",
    "    results.append((acc,f_macro,f_weighted))\n",
    "    output_file = f'modelxgb_i={i}.bin'\n",
    "    with open(output_file, 'wb') as f_out:\n",
    "        pickle.dump((dv, model), f_out)\n",
    "    "
   ]
  },
  {
   "cell_type": "code",
   "execution_count": 16,
   "id": "4a9165e6-c7aa-431a-8378-6d73e773bd12",
   "metadata": {},
   "outputs": [],
   "source": [
    "import pickle\n",
    "\n",
    "from flask import Flask\n",
    "from flask import request\n",
    "from flask import jsonify\n",
    "\n",
    "\n",
    "model_file1 = 'modelxgb_i=5.bin'\n",
    "\n",
    "with open(model_file1, 'rb') as f_in:\n",
    "    dv1, model1 = pickle.load(f_in)\n",
    "\n",
    "est1 = model1.predict_proba(X_test_new)\n",
    "\n",
    "model_file2 = 'modelxgb_i=13.bin'\n",
    "\n",
    "with open(model_file2, 'rb') as f_in:\n",
    "    dv2, model2 = pickle.load(f_in)\n",
    "\n",
    "est2 = model2.predict_proba(X_test_new)\n",
    "\n",
    "model_file3 = 'modelxgb_i=29.bin'\n",
    "\n",
    "with open(model_file3, 'rb') as f_in:\n",
    "    dv3, model3 = pickle.load(f_in)\n",
    "\n",
    "est3 = model3.predict_proba(X_test_new)\n",
    "\n",
    "\n",
    "model_file4 = 'modelxgb_i=43.bin'\n",
    "\n",
    "with open(model_file4, 'rb') as f_in:\n",
    "    dv4, model4 = pickle.load(f_in)\n",
    "\n",
    "est4 = model4.predict_proba(X_test_new)\n",
    "\n",
    "\n",
    "model_file5 = 'modelxgb_i=57.bin'\n",
    "\n",
    "with open(model_file5, 'rb') as f_in:\n",
    "    dv5, model5 = pickle.load(f_in)\n",
    "\n",
    "est5 = model5.predict_proba(X_test_new)\n",
    "\n",
    "\n",
    "\n",
    "model_file6 = 'modelxgb_i=87.bin'\n",
    "\n",
    "with open(model_file6, 'rb') as f_in:\n",
    "    dv6, model6 = pickle.load(f_in)\n",
    "\n",
    "est6 = model6.predict_proba(X_test_new)\n",
    "\n",
    "\n",
    "model_file7 = 'modelxgb_i=28.bin'\n",
    "\n",
    "with open(model_file7, 'rb') as f_in:\n",
    "    dv7, model7 = pickle.load(f_in)\n",
    "\n",
    "est7 = model7.predict_proba(X_test_new)\n",
    "\n",
    "\n",
    "model_file8 = 'modelxgb_i=42.bin'\n",
    "\n",
    "with open(model_file8, 'rb') as f_in:\n",
    "    dv8, model8 = pickle.load(f_in)\n",
    "\n",
    "est8 = model8.predict_proba(X_test_new)\n",
    "\n",
    "\n",
    "model_file9 = 'modelxgb_i=1.bin'\n",
    "\n",
    "with open(model_file9, 'rb') as f_in:\n",
    "    dv9, model9 = pickle.load(f_in)\n",
    "\n",
    "est9 = model9.predict_proba(X_test_new)\n",
    "\n",
    "model_file10 = 'modelxgb_i=93.bin'\n",
    "\n",
    "with open(model_file10, 'rb') as f_in:\n",
    "    dv10, model10 = pickle.load(f_in)\n",
    "\n",
    "est10 = model10.predict_proba(X_test_new)"
   ]
  },
  {
   "cell_type": "code",
   "execution_count": 17,
   "id": "aaa7ed1e-ba89-4201-88e2-e906e71d3cef",
   "metadata": {},
   "outputs": [],
   "source": [
    "list_models = np.array([est1, est2, est3, est4, est5, est6, est7, est8, est9, est10])\n",
    "averages = np.average(list_models, axis=0)\n"
   ]
  },
  {
   "cell_type": "code",
   "execution_count": 18,
   "id": "218e9fd4-9b18-40f2-853b-9b08706f3500",
   "metadata": {},
   "outputs": [
    {
     "name": "stdout",
     "output_type": "stream",
     "text": [
      "Accuracy is calculated as \u001b[1m0.8\u001b[0m.\n",
      "Macro F1 score is calculated as \u001b[1m0.6245\u001b[0m.\n",
      "Weighted F1 score is calculated as \u001b[1m0.8216\u001b[0m.\n"
     ]
    },
    {
     "data": {
      "image/png": "[encoded data removed]",
      "text/plain": [
       "<Figure size 800x600 with 1 Axes>"
      ]
     },
     "metadata": {},
     "output_type": "display_data"
    }
   ],
   "source": [
    "y_pred_proba = est1\n",
    "y_pred =averages[:,1]\n",
    "y_pred > 0.5\n",
    "y_decision = (y_pred >= 0.5).astype(int)\n",
    "acc = (y_test == y_decision).mean().round(4)\n",
    "print(f\"Accuracy is calculated as \\033[1m{acc}\\033[0m.\")\n",
    "f_macro = f1_score(y_test, y_decision, average='macro').round(4)\n",
    "print(f\"Macro F1 score is calculated as \\033[1m{f_macro}\\033[0m.\")\n",
    "f_weighted = f1_score(y_test, y_decision, average='weighted').round(4)\n",
    "print(f\"Weighted F1 score is calculated as \\033[1m{f_weighted}\\033[0m.\")\n",
    "results.append((acc,f_macro,f_weighted))\n",
    "\n",
    "# Calculate precision and recall values for different thresholds\n",
    "precision, recall, thresholds = precision_recall_curve(y_test, y_pred)\n",
    "\n",
    "# Calculate the average precision score\n",
    "average_precision = average_precision_score(y_test, y_pred)\n",
    "\n",
    "# Plot Precision-Recall curve\n",
    "plt.figure(figsize=(8, 6))\n",
    "plt.plot(recall, precision, label=f'AP = {average_precision:.2f}', color = \"cornflowerblue\")\n",
    "plt.xlabel('Recall', fontsize=12)\n",
    "plt.ylabel('Precision', fontsize=12)\n",
    "plt.title('Precision-Recall Curve', fontsize=14)\n",
    "plt.legend(loc='best', fontsize=12)\n",
    "plt.grid(alpha=0.4)\n",
    "plt.show()\n"
   ]
  },
  {
   "cell_type": "code",
   "execution_count": 19,
   "id": "3b9b3db6-97da-4fe7-9f33-e4a0590a3718",
   "metadata": {},
   "outputs": [],
   "source": [
    "xgboost = pd.DataFrame(data = results,columns = ['accuracy', 'f_macro', 'f_weighted'])\n",
    "\n",
    "xgboost.to_csv('xgboost_results.csv')"
   ]
  },
  {
   "cell_type": "code",
   "execution_count": null,
   "id": "c264b279-493b-4ad6-a1ea-dfc690a8afb9",
   "metadata": {},
   "outputs": [],
   "source": []
  },
  {
   "cell_type": "markdown",
   "id": "2d98c2b6-1742-4d17-9739-397c3026d852",
   "metadata": {},
   "source": [
    "# Random Forest Classifier"
   ]
  },
  {
   "cell_type": "code",
   "execution_count": 20,
   "id": "705bbad8-0822-4203-9697-d1d5323e65d5",
   "metadata": {},
   "outputs": [
    {
     "name": "stdout",
     "output_type": "stream",
     "text": [
      "5\n",
      "Accuracy is calculated as \u001b[1m0.7194\u001b[0m.\n",
      "Macro F1 score is calculated as \u001b[1m0.5779\u001b[0m.\n",
      "Weighted F1 score is calculated as \u001b[1m0.7655\u001b[0m.\n",
      "13\n",
      "Accuracy is calculated as \u001b[1m0.7222\u001b[0m.\n",
      "Macro F1 score is calculated as \u001b[1m0.5788\u001b[0m.\n",
      "Weighted F1 score is calculated as \u001b[1m0.7675\u001b[0m.\n",
      "29\n",
      "Accuracy is calculated as \u001b[1m0.7293\u001b[0m.\n",
      "Macro F1 score is calculated as \u001b[1m0.5824\u001b[0m.\n",
      "Weighted F1 score is calculated as \u001b[1m0.7725\u001b[0m.\n",
      "43\n",
      "Accuracy is calculated as \u001b[1m0.7215\u001b[0m.\n",
      "Macro F1 score is calculated as \u001b[1m0.5784\u001b[0m.\n",
      "Weighted F1 score is calculated as \u001b[1m0.767\u001b[0m.\n",
      "57\n",
      "Accuracy is calculated as \u001b[1m0.7225\u001b[0m.\n",
      "Macro F1 score is calculated as \u001b[1m0.5807\u001b[0m.\n",
      "Weighted F1 score is calculated as \u001b[1m0.7679\u001b[0m.\n",
      "87\n",
      "Accuracy is calculated as \u001b[1m0.7259\u001b[0m.\n",
      "Macro F1 score is calculated as \u001b[1m0.5805\u001b[0m.\n",
      "Weighted F1 score is calculated as \u001b[1m0.7701\u001b[0m.\n",
      "28\n",
      "Accuracy is calculated as \u001b[1m0.7275\u001b[0m.\n",
      "Macro F1 score is calculated as \u001b[1m0.5815\u001b[0m.\n",
      "Weighted F1 score is calculated as \u001b[1m0.7713\u001b[0m.\n",
      "42\n",
      "Accuracy is calculated as \u001b[1m0.7254\u001b[0m.\n",
      "Macro F1 score is calculated as \u001b[1m0.5807\u001b[0m.\n",
      "Weighted F1 score is calculated as \u001b[1m0.7698\u001b[0m.\n",
      "1\n",
      "Accuracy is calculated as \u001b[1m0.7201\u001b[0m.\n",
      "Macro F1 score is calculated as \u001b[1m0.5772\u001b[0m.\n",
      "Weighted F1 score is calculated as \u001b[1m0.7659\u001b[0m.\n",
      "93\n",
      "Accuracy is calculated as \u001b[1m0.7241\u001b[0m.\n",
      "Macro F1 score is calculated as \u001b[1m0.578\u001b[0m.\n",
      "Weighted F1 score is calculated as \u001b[1m0.7687\u001b[0m.\n"
     ]
    }
   ],
   "source": [
    "\n",
    "results = []\n",
    "for i in [5, 13, 29, 43, 57, 87, 28, 42,1, 93]:\n",
    "    print(i)\n",
    "    # I have deleted subsample and colsample_bytree parameters since I have evaluated same result at each run\n",
    "    model = RandomForestClassifier(oob_score =  False, n_estimators =  500, min_samples_split = 10, min_samples_leaf = 1, max_samples =  0.9, max_features = 'sqrt', max_depth =  40, class_weight = 'balanced',\n",
    "                                   bootstrap = True, n_jobs = -1,random_state = i)\n",
    "    model.fit(X_full_train_new, y_full_train)\n",
    "    y_pred = model.predict_proba(X_test_new)[:,1]\n",
    "    y_pred > 0.5\n",
    "    y_decision = (y_pred >= 0.5).astype(int)\n",
    "    acc = (y_test == y_decision).mean().round(4)\n",
    "    print(f\"Accuracy is calculated as \\033[1m{acc}\\033[0m.\")\n",
    "    f_macro = f1_score(y_test, y_decision, average='macro').round(4)\n",
    "    print(f\"Macro F1 score is calculated as \\033[1m{f_macro}\\033[0m.\")\n",
    "    f_weighted = f1_score(y_test, y_decision, average='weighted').round(4)\n",
    "    print(f\"Weighted F1 score is calculated as \\033[1m{f_weighted}\\033[0m.\")\n",
    "    results.append((acc,f_macro,f_weighted))\n",
    "    output_file = f'modelrf_i={i}.bin'\n",
    "    with open(output_file, 'wb') as f_out:\n",
    "        pickle.dump((dv, model), f_out)\n",
    "    "
   ]
  },
  {
   "cell_type": "code",
   "execution_count": 21,
   "id": "1c7539b4-dd37-4302-a286-c06730765a5c",
   "metadata": {},
   "outputs": [],
   "source": [
    "randomfor = pd.DataFrame(data = results,columns = ['accuracy', 'f_macro', 'f_weighted'])\n",
    "\n",
    "randomfor.to_csv('randomforest_results.csv')"
   ]
  },
  {
   "cell_type": "code",
   "execution_count": null,
   "id": "b7c7a55e-6de1-44fb-8f24-9cd319d3eef8",
   "metadata": {},
   "outputs": [],
   "source": []
  },
  {
   "cell_type": "code",
   "execution_count": null,
   "id": "b9290f4d-6423-4664-9556-869841b9a382",
   "metadata": {},
   "outputs": [],
   "source": []
  },
  {
   "cell_type": "markdown",
   "id": "ac7f6ae4-abb2-463d-aa91-ee69925ee088",
   "metadata": {},
   "source": [
    "# Logistic Regression "
   ]
  },
  {
   "cell_type": "code",
   "execution_count": 22,
   "id": "337f4586-4d87-49dd-a27f-93674de28d34",
   "metadata": {},
   "outputs": [
    {
     "name": "stdout",
     "output_type": "stream",
     "text": [
      "5\n"
     ]
    },
    {
     "name": "stderr",
     "output_type": "stream",
     "text": [
      "C:\\Users\\Kuzey\\Anaconda3\\envs\\ml-zoomcamp\\Lib\\site-packages\\sklearn\\linear_model\\_logistic.py:1271: UserWarning: 'n_jobs' > 1 does not have any effect when 'solver' is set to 'liblinear'. Got 'n_jobs' = 8.\n",
      "  warnings.warn(\n"
     ]
    },
    {
     "name": "stdout",
     "output_type": "stream",
     "text": [
      "Accuracy is calculated as \u001b[1m0.6247\u001b[0m.\n",
      "Macro F1 score is calculated as \u001b[1m0.5102\u001b[0m.\n",
      "Weighted F1 score is calculated as \u001b[1m0.692\u001b[0m.\n",
      "13\n"
     ]
    },
    {
     "name": "stderr",
     "output_type": "stream",
     "text": [
      "C:\\Users\\Kuzey\\Anaconda3\\envs\\ml-zoomcamp\\Lib\\site-packages\\sklearn\\linear_model\\_logistic.py:1271: UserWarning: 'n_jobs' > 1 does not have any effect when 'solver' is set to 'liblinear'. Got 'n_jobs' = 8.\n",
      "  warnings.warn(\n"
     ]
    },
    {
     "name": "stdout",
     "output_type": "stream",
     "text": [
      "Accuracy is calculated as \u001b[1m0.6247\u001b[0m.\n",
      "Macro F1 score is calculated as \u001b[1m0.5102\u001b[0m.\n",
      "Weighted F1 score is calculated as \u001b[1m0.692\u001b[0m.\n",
      "29\n"
     ]
    },
    {
     "name": "stderr",
     "output_type": "stream",
     "text": [
      "C:\\Users\\Kuzey\\Anaconda3\\envs\\ml-zoomcamp\\Lib\\site-packages\\sklearn\\linear_model\\_logistic.py:1271: UserWarning: 'n_jobs' > 1 does not have any effect when 'solver' is set to 'liblinear'. Got 'n_jobs' = 8.\n",
      "  warnings.warn(\n"
     ]
    },
    {
     "name": "stdout",
     "output_type": "stream",
     "text": [
      "Accuracy is calculated as \u001b[1m0.6247\u001b[0m.\n",
      "Macro F1 score is calculated as \u001b[1m0.5102\u001b[0m.\n",
      "Weighted F1 score is calculated as \u001b[1m0.692\u001b[0m.\n",
      "43\n"
     ]
    },
    {
     "name": "stderr",
     "output_type": "stream",
     "text": [
      "C:\\Users\\Kuzey\\Anaconda3\\envs\\ml-zoomcamp\\Lib\\site-packages\\sklearn\\linear_model\\_logistic.py:1271: UserWarning: 'n_jobs' > 1 does not have any effect when 'solver' is set to 'liblinear'. Got 'n_jobs' = 8.\n",
      "  warnings.warn(\n"
     ]
    },
    {
     "name": "stdout",
     "output_type": "stream",
     "text": [
      "Accuracy is calculated as \u001b[1m0.6247\u001b[0m.\n",
      "Macro F1 score is calculated as \u001b[1m0.5102\u001b[0m.\n",
      "Weighted F1 score is calculated as \u001b[1m0.692\u001b[0m.\n",
      "57\n"
     ]
    },
    {
     "name": "stderr",
     "output_type": "stream",
     "text": [
      "C:\\Users\\Kuzey\\Anaconda3\\envs\\ml-zoomcamp\\Lib\\site-packages\\sklearn\\linear_model\\_logistic.py:1271: UserWarning: 'n_jobs' > 1 does not have any effect when 'solver' is set to 'liblinear'. Got 'n_jobs' = 8.\n",
      "  warnings.warn(\n"
     ]
    },
    {
     "name": "stdout",
     "output_type": "stream",
     "text": [
      "Accuracy is calculated as \u001b[1m0.6247\u001b[0m.\n",
      "Macro F1 score is calculated as \u001b[1m0.5102\u001b[0m.\n",
      "Weighted F1 score is calculated as \u001b[1m0.692\u001b[0m.\n",
      "87\n"
     ]
    },
    {
     "name": "stderr",
     "output_type": "stream",
     "text": [
      "C:\\Users\\Kuzey\\Anaconda3\\envs\\ml-zoomcamp\\Lib\\site-packages\\sklearn\\linear_model\\_logistic.py:1271: UserWarning: 'n_jobs' > 1 does not have any effect when 'solver' is set to 'liblinear'. Got 'n_jobs' = 8.\n",
      "  warnings.warn(\n"
     ]
    },
    {
     "name": "stdout",
     "output_type": "stream",
     "text": [
      "Accuracy is calculated as \u001b[1m0.6247\u001b[0m.\n",
      "Macro F1 score is calculated as \u001b[1m0.5102\u001b[0m.\n",
      "Weighted F1 score is calculated as \u001b[1m0.692\u001b[0m.\n",
      "28\n"
     ]
    },
    {
     "name": "stderr",
     "output_type": "stream",
     "text": [
      "C:\\Users\\Kuzey\\Anaconda3\\envs\\ml-zoomcamp\\Lib\\site-packages\\sklearn\\linear_model\\_logistic.py:1271: UserWarning: 'n_jobs' > 1 does not have any effect when 'solver' is set to 'liblinear'. Got 'n_jobs' = 8.\n",
      "  warnings.warn(\n"
     ]
    },
    {
     "name": "stdout",
     "output_type": "stream",
     "text": [
      "Accuracy is calculated as \u001b[1m0.6247\u001b[0m.\n",
      "Macro F1 score is calculated as \u001b[1m0.5102\u001b[0m.\n",
      "Weighted F1 score is calculated as \u001b[1m0.692\u001b[0m.\n",
      "42\n"
     ]
    },
    {
     "name": "stderr",
     "output_type": "stream",
     "text": [
      "C:\\Users\\Kuzey\\Anaconda3\\envs\\ml-zoomcamp\\Lib\\site-packages\\sklearn\\linear_model\\_logistic.py:1271: UserWarning: 'n_jobs' > 1 does not have any effect when 'solver' is set to 'liblinear'. Got 'n_jobs' = 8.\n",
      "  warnings.warn(\n"
     ]
    },
    {
     "name": "stdout",
     "output_type": "stream",
     "text": [
      "Accuracy is calculated as \u001b[1m0.6247\u001b[0m.\n",
      "Macro F1 score is calculated as \u001b[1m0.5102\u001b[0m.\n",
      "Weighted F1 score is calculated as \u001b[1m0.692\u001b[0m.\n",
      "1\n"
     ]
    },
    {
     "name": "stderr",
     "output_type": "stream",
     "text": [
      "C:\\Users\\Kuzey\\Anaconda3\\envs\\ml-zoomcamp\\Lib\\site-packages\\sklearn\\linear_model\\_logistic.py:1271: UserWarning: 'n_jobs' > 1 does not have any effect when 'solver' is set to 'liblinear'. Got 'n_jobs' = 8.\n",
      "  warnings.warn(\n"
     ]
    },
    {
     "name": "stdout",
     "output_type": "stream",
     "text": [
      "Accuracy is calculated as \u001b[1m0.6247\u001b[0m.\n",
      "Macro F1 score is calculated as \u001b[1m0.5102\u001b[0m.\n",
      "Weighted F1 score is calculated as \u001b[1m0.692\u001b[0m.\n",
      "93\n"
     ]
    },
    {
     "name": "stderr",
     "output_type": "stream",
     "text": [
      "C:\\Users\\Kuzey\\Anaconda3\\envs\\ml-zoomcamp\\Lib\\site-packages\\sklearn\\linear_model\\_logistic.py:1271: UserWarning: 'n_jobs' > 1 does not have any effect when 'solver' is set to 'liblinear'. Got 'n_jobs' = 8.\n",
      "  warnings.warn(\n"
     ]
    },
    {
     "name": "stdout",
     "output_type": "stream",
     "text": [
      "Accuracy is calculated as \u001b[1m0.6247\u001b[0m.\n",
      "Macro F1 score is calculated as \u001b[1m0.5102\u001b[0m.\n",
      "Weighted F1 score is calculated as \u001b[1m0.692\u001b[0m.\n"
     ]
    }
   ],
   "source": [
    "from sklearn.linear_model import LogisticRegression\n",
    "results = []\n",
    "for i in [5, 13, 29, 43, 57, 87, 28, 42,1, 93]:\n",
    "    print(i)\n",
    "    # I have deleted subsample and colsample_bytree parameters since I have evaluated same result at each run\n",
    "    model = LogisticRegression(class_weight='balanced', random_state = i, solver = 'liblinear', penalty = 'l2', max_iter =500, C = 1, n_jobs = -1)\n",
    "    model.fit(X_full_train_new, y_full_train)\n",
    "    y_pred = model.predict_proba(X_test_new)[:,1]\n",
    "    y_pred > 0.5\n",
    "    y_decision = (y_pred >= 0.5).astype(int)\n",
    "    acc = (y_test == y_decision).mean().round(4)\n",
    "    print(f\"Accuracy is calculated as \\033[1m{acc}\\033[0m.\")\n",
    "    f_macro = f1_score(y_test, y_decision, average='macro').round(4)\n",
    "    print(f\"Macro F1 score is calculated as \\033[1m{f_macro}\\033[0m.\")\n",
    "    f_weighted = f1_score(y_test, y_decision, average='weighted').round(4)\n",
    "    print(f\"Weighted F1 score is calculated as \\033[1m{f_weighted}\\033[0m.\")\n",
    "    results.append((acc,f_macro,f_weighted))\n",
    "    output_file = f'modellog_i={i}.bin'\n",
    "    with open(output_file, 'wb') as f_out:\n",
    "        pickle.dump((dv, model), f_out)\n",
    "    "
   ]
  },
  {
   "cell_type": "code",
   "execution_count": 23,
   "id": "69c8ee27-c14f-451c-809c-409c2cb89bb3",
   "metadata": {},
   "outputs": [],
   "source": [
    "logreg = pd.DataFrame(data = results,columns = ['accuracy', 'f_macro', 'f_weighted'])\n",
    "\n",
    "logreg.to_csv('logreg_results.csv')"
   ]
  },
  {
   "cell_type": "code",
   "execution_count": null,
   "id": "67b4cfe5-29b0-4cdf-8a5a-3cef0965fd1d",
   "metadata": {},
   "outputs": [],
   "source": []
  },
  {
   "cell_type": "code",
   "execution_count": 24,
   "id": "3f656da7-c204-4e64-a5a2-6d16418defb1",
   "metadata": {},
   "outputs": [
    {
     "data": {
      "text/html": [
       "<div>\n",
       "<style scoped>\n",
       "    .dataframe tbody tr th:only-of-type {\n",
       "        vertical-align: middle;\n",
       "    }\n",
       "\n",
       "    .dataframe tbody tr th {\n",
       "        vertical-align: top;\n",
       "    }\n",
       "\n",
       "    .dataframe thead th {\n",
       "        text-align: right;\n",
       "    }\n",
       "</style>\n",
       "<table border=\"1\" class=\"dataframe\">\n",
       "  <thead>\n",
       "    <tr style=\"text-align: right;\">\n",
       "      <th></th>\n",
       "      <th>Unnamed: 0</th>\n",
       "      <th>accuracy</th>\n",
       "      <th>f_macro</th>\n",
       "      <th>f_weighted</th>\n",
       "    </tr>\n",
       "  </thead>\n",
       "  <tbody>\n",
       "    <tr>\n",
       "      <th>0</th>\n",
       "      <td>0</td>\n",
       "      <td>0.6247</td>\n",
       "      <td>0.5102</td>\n",
       "      <td>0.692</td>\n",
       "    </tr>\n",
       "    <tr>\n",
       "      <th>1</th>\n",
       "      <td>1</td>\n",
       "      <td>0.6247</td>\n",
       "      <td>0.5102</td>\n",
       "      <td>0.692</td>\n",
       "    </tr>\n",
       "    <tr>\n",
       "      <th>2</th>\n",
       "      <td>2</td>\n",
       "      <td>0.6247</td>\n",
       "      <td>0.5102</td>\n",
       "      <td>0.692</td>\n",
       "    </tr>\n",
       "    <tr>\n",
       "      <th>3</th>\n",
       "      <td>3</td>\n",
       "      <td>0.6247</td>\n",
       "      <td>0.5102</td>\n",
       "      <td>0.692</td>\n",
       "    </tr>\n",
       "    <tr>\n",
       "      <th>4</th>\n",
       "      <td>4</td>\n",
       "      <td>0.6247</td>\n",
       "      <td>0.5102</td>\n",
       "      <td>0.692</td>\n",
       "    </tr>\n",
       "  </tbody>\n",
       "</table>\n",
       "</div>"
      ],
      "text/plain": [
       "   Unnamed: 0  accuracy  f_macro  f_weighted\n",
       "0           0    0.6247   0.5102       0.692\n",
       "1           1    0.6247   0.5102       0.692\n",
       "2           2    0.6247   0.5102       0.692\n",
       "3           3    0.6247   0.5102       0.692\n",
       "4           4    0.6247   0.5102       0.692"
      ]
     },
     "execution_count": 24,
     "metadata": {},
     "output_type": "execute_result"
    }
   ],
   "source": [
    "a = pd.read_csv('logreg_results.csv')\n",
    "a.head()"
   ]
  },
  {
   "cell_type": "code",
   "execution_count": null,
   "id": "a6e85462-fbbc-4ae9-944d-b51d2461a4e5",
   "metadata": {},
   "outputs": [],
   "source": []
  }
 ],
 "metadata": {
  "kernelspec": {
   "display_name": "Python 3 (ipykernel)",
   "language": "python",
   "name": "python3"
  },
  "language_info": {
   "codemirror_mode": {
    "name": "ipython",
    "version": 3
   },
   "file_extension": ".py",
   "mimetype": "text/x-python",
   "name": "python",
   "nbconvert_exporter": "python",
   "pygments_lexer": "ipython3",
   "version": "3.11.9"
  }
 },
 "nbformat": 4,
 "nbformat_minor": 5
}
